{
 "cells": [
  {
   "cell_type": "code",
   "execution_count": null,
   "id": "23431561-a93e-47df-b545-9c4def080a09",
   "metadata": {},
   "outputs": [],
   "source": [
    "# Jupyter Notebook\n",
    "# Ctrl+Enter : 현재 셀을 실행 \n",
    "# shift+Enter : 현재 셀을 실행하고 다음 셀로 이동, 다음셀이 없으면 새로운 셀 생성 \n",
    "# alt + Enter : 현재 셀을 실행하고 아래에 새로운 셀을 생성 "
   ]
  },
  {
   "cell_type": "code",
   "execution_count": 8,
   "id": "d8db7174-c4f8-4797-9e34-fe003f528913",
   "metadata": {},
   "outputs": [
    {
     "name": "stdout",
     "output_type": "stream",
     "text": [
      "Hello, Jupyter Notebook!!!\n"
     ]
    }
   ],
   "source": [
    "print(\"Hello, Jupyter Notebook!!!\")"
   ]
  },
  {
   "cell_type": "code",
   "execution_count": 7,
   "id": "c61ed2dd-623b-493d-99b0-3cd0e443b3e4",
   "metadata": {},
   "outputs": [
    {
     "name": "stdout",
     "output_type": "stream",
     "text": [
      "12445\n"
     ]
    }
   ],
   "source": [
    "abc  =12345\n",
    "print(abc + 100)"
   ]
  },
  {
   "cell_type": "code",
   "execution_count": null,
   "id": "61036518-3796-45d1-a471-063fa0f6b2df",
   "metadata": {},
   "outputs": [],
   "source": []
  }
 ],
 "metadata": {
  "kernelspec": {
   "display_name": "Python 3 (Spyder)",
   "language": "python3",
   "name": "python3"
  },
  "language_info": {
   "codemirror_mode": {
    "name": "ipython",
    "version": 3
   },
   "file_extension": ".py",
   "mimetype": "text/x-python",
   "name": "python",
   "nbconvert_exporter": "python",
   "pygments_lexer": "ipython3",
   "version": "3.11.8"
  }
 },
 "nbformat": 4,
 "nbformat_minor": 5
}
